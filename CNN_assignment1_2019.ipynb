{
 "cells": [
  {
   "cell_type": "markdown",
   "metadata": {},
   "source": [
    "Upload The cifar10 from the keras.datasets. The CIFAR-10 dataset consists of 60000 32x32 colour images in 10 classes, \n",
    "with 6000 images per class. There are 50000 training images and 10000 test images. \n",
    "\n",
    "for more information about the dataset please see: https://www.cs.toronto.edu/~kriz/cifar.html\n",
    "\n",
    "Split data to the train and test.\n",
    "Convert the class label to binary class label"
   ]
  },
  {
   "cell_type": "code",
   "execution_count": 9,
   "metadata": {},
   "outputs": [
    {
     "name": "stdout",
     "output_type": "stream",
     "text": [
      "x_train shape: (50000, 32, 32, 3)\n",
      "50000 train samples\n",
      "10000 test samples\n"
     ]
    }
   ],
   "source": []
  },
  {
   "cell_type": "markdown",
   "metadata": {},
   "source": [
    "Normalized the data and train the model using CNN."
   ]
  },
  {
   "cell_type": "code",
   "execution_count": 10,
   "metadata": {},
   "outputs": [
    {
     "name": "stdout",
     "output_type": "stream",
     "text": [
      "Train on 50000 samples, validate on 10000 samples\n",
      "Epoch 1/10\n",
      "50000/50000 [==============================] - 299s - loss: 1.5179 - acc: 0.4401 - val_loss: 1.1457 - val_acc: 0.6037\n",
      "Epoch 2/10\n",
      "50000/50000 [==============================] - 298s - loss: 1.1121 - acc: 0.6045 - val_loss: 0.9456 - val_acc: 0.6635\n",
      "Epoch 3/10\n",
      "50000/50000 [==============================] - 325s - loss: 0.9513 - acc: 0.6673 - val_loss: 0.8052 - val_acc: 0.7150\n",
      "Epoch 4/10\n",
      "50000/50000 [==============================] - 271s - loss: 0.8654 - acc: 0.6966 - val_loss: 0.7892 - val_acc: 0.7261\n",
      "Epoch 5/10\n",
      "50000/50000 [==============================] - 278s - loss: 0.8045 - acc: 0.7162 - val_loss: 0.7457 - val_acc: 0.7384\n",
      "Epoch 6/10\n",
      "50000/50000 [==============================] - 307s - loss: 0.7601 - acc: 0.7330 - val_loss: 0.7007 - val_acc: 0.7635\n",
      "Epoch 7/10\n",
      "50000/50000 [==============================] - 285s - loss: 0.7215 - acc: 0.7471 - val_loss: 0.7207 - val_acc: 0.7503\n",
      "Epoch 8/10\n",
      "50000/50000 [==============================] - 291s - loss: 0.6907 - acc: 0.7553 - val_loss: 0.6747 - val_acc: 0.7700\n",
      "Epoch 9/10\n",
      "50000/50000 [==============================] - 293s - loss: 0.6665 - acc: 0.7658 - val_loss: 0.6678 - val_acc: 0.7710\n",
      "Epoch 10/10\n",
      "50000/50000 [==============================] - 310s - loss: 0.6417 - acc: 0.7756 - val_loss: 0.6544 - val_acc: 0.7756\n"
     ]
    },
    {
     "data": {
      "text/plain": [
       "<keras.callbacks.History at 0x1c2da7fe80>"
      ]
     },
     "execution_count": 10,
     "metadata": {},
     "output_type": "execute_result"
    }
   ],
   "source": []
  },
  {
   "cell_type": "markdown",
   "metadata": {},
   "source": [
    "Evaluate the accuracy of the model."
   ]
  },
  {
   "cell_type": "code",
   "execution_count": 11,
   "metadata": {},
   "outputs": [
    {
     "name": "stdout",
     "output_type": "stream",
     "text": [
      "10000/10000 [==============================] - 14s    \n",
      "Test loss: 0.6543974961280823\n",
      "Test accuracy: 0.7756\n"
     ]
    }
   ],
   "source": []
  }
 ],
 "metadata": {
  "kernelspec": {
   "display_name": "Python 3",
   "language": "python",
   "name": "python3"
  },
  "language_info": {
   "codemirror_mode": {
    "name": "ipython",
    "version": 3
   },
   "file_extension": ".py",
   "mimetype": "text/x-python",
   "name": "python",
   "nbconvert_exporter": "python",
   "pygments_lexer": "ipython3",
   "version": "3.6.7"
  }
 },
 "nbformat": 4,
 "nbformat_minor": 2
}
